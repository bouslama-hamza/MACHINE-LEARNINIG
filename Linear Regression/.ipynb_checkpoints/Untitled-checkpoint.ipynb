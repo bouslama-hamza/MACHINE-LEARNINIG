{
 "cells": [
  {
   "cell_type": "code",
   "execution_count": 105,
   "id": "c7f2cb4b",
   "metadata": {},
   "outputs": [],
   "source": [
    "import numpy as np\n",
    "x = np.array([2 , 4 , 14 , 8 , 12])\n",
    "y = np.array([10 , 8 , 2 , 6 , 4])"
   ]
  },
  {
   "cell_type": "code",
   "execution_count": 106,
   "id": "861216f7",
   "metadata": {},
   "outputs": [],
   "source": [
    "theta_one = (sum(x * y) - (len(x) * np.mean(x) * np.mean(y))) / (len(x) * np.var(x))\n",
    "theta_zero = np.mean(y) - (theta_one * np.mean(x))"
   ]
  },
  {
   "cell_type": "code",
   "execution_count": 107,
   "id": "2435a342",
   "metadata": {},
   "outputs": [],
   "source": [
    "def func(x):\n",
    "    return (theta_one * x) + theta_zero"
   ]
  },
  {
   "cell_type": "code",
   "execution_count": 108,
   "id": "41e9d649",
   "metadata": {},
   "outputs": [
    {
     "data": {
      "text/plain": [
       "2.3076923076923066"
      ]
     },
     "execution_count": 108,
     "metadata": {},
     "output_type": "execute_result"
    }
   ],
   "source": [
    "func(14)"
   ]
  },
  {
   "cell_type": "code",
   "execution_count": 232,
   "id": "7df6c582",
   "metadata": {},
   "outputs": [],
   "source": [
    "from sklearn.datasets import make_regression\n",
    "X , Y = make_regression(n_samples=100, n_features=1 , noise = 0.5)\n",
    "np.random.seed(0)"
   ]
  },
  {
   "cell_type": "code",
   "execution_count": 233,
   "id": "ee957aa1",
   "metadata": {},
   "outputs": [],
   "source": [
    "X = np.array([[X[i][0] , 1] for i in range(len(X))])\n",
    "Y = Y.reshape(Y.shape[0],1)"
   ]
  },
  {
   "cell_type": "code",
   "execution_count": 234,
   "id": "e33000cc",
   "metadata": {},
   "outputs": [
    {
     "data": {
      "text/plain": [
       "array([[-0.20515826,  1.        ],\n",
       "       [ 1.22244507,  1.        ],\n",
       "       [ 0.15494743,  1.        ],\n",
       "       [ 0.12898291,  1.        ],\n",
       "       [ 1.05445173,  1.        ],\n",
       "       [ 1.49407907,  1.        ],\n",
       "       [-0.34791215,  1.        ],\n",
       "       [ 1.89588918,  1.        ],\n",
       "       [-0.4380743 ,  1.        ],\n",
       "       [-0.74216502,  1.        ],\n",
       "       [ 1.48825219,  1.        ],\n",
       "       [ 1.23029068,  1.        ],\n",
       "       [-0.40178094,  1.        ],\n",
       "       [-1.16514984,  1.        ],\n",
       "       [ 0.40198936,  1.        ],\n",
       "       [-0.15135721,  1.        ],\n",
       "       [-0.87079715,  1.        ],\n",
       "       [ 0.12691209,  1.        ],\n",
       "       [-0.31155253,  1.        ],\n",
       "       [-0.02818223,  1.        ],\n",
       "       [-1.63019835,  1.        ],\n",
       "       [ 1.8831507 ,  1.        ],\n",
       "       [-1.61389785,  1.        ],\n",
       "       [-0.30230275,  1.        ],\n",
       "       [-0.21274028,  1.        ],\n",
       "       [ 0.12167502,  1.        ],\n",
       "       [ 0.77749036,  1.        ],\n",
       "       [ 1.86755799,  1.        ],\n",
       "       [-1.70627019,  1.        ],\n",
       "       [ 0.0519454 ,  1.        ],\n",
       "       [-2.55298982,  1.        ],\n",
       "       [ 0.44386323,  1.        ],\n",
       "       [-0.35955316,  1.        ],\n",
       "       [ 0.20827498,  1.        ],\n",
       "       [-1.7262826 ,  1.        ],\n",
       "       [-1.53624369,  1.        ],\n",
       "       [ 0.70657317,  1.        ],\n",
       "       [-1.98079647,  1.        ],\n",
       "       [ 0.46278226,  1.        ],\n",
       "       [-0.17992484,  1.        ],\n",
       "       [ 0.76103773,  1.        ],\n",
       "       [ 0.05616534,  1.        ],\n",
       "       [ 0.01050002,  1.        ],\n",
       "       [-0.51080514,  1.        ],\n",
       "       [-0.89546656,  1.        ],\n",
       "       [ 2.2408932 ,  1.        ],\n",
       "       [-0.50965218,  1.        ],\n",
       "       [-0.97727788,  1.        ],\n",
       "       [ 0.72909056,  1.        ],\n",
       "       [-0.85409574,  1.        ],\n",
       "       [-0.38732682,  1.        ],\n",
       "       [ 0.6536186 ,  1.        ],\n",
       "       [ 0.97873798,  1.        ],\n",
       "       [ 1.45427351,  1.        ],\n",
       "       [ 0.40234164,  1.        ],\n",
       "       [ 1.9507754 ,  1.        ],\n",
       "       [-1.07075262,  1.        ],\n",
       "       [ 0.97663904,  1.        ],\n",
       "       [ 1.17877957,  1.        ],\n",
       "       [ 0.17742614,  1.        ],\n",
       "       [ 0.3024719 ,  1.        ],\n",
       "       [ 0.42833187,  1.        ],\n",
       "       [-1.18063218,  1.        ],\n",
       "       [ 0.15634897,  1.        ],\n",
       "       [ 0.37816252,  1.        ],\n",
       "       [ 1.46935877,  1.        ],\n",
       "       [-0.57884966,  1.        ],\n",
       "       [-0.36274117,  1.        ],\n",
       "       [ 0.8644362 ,  1.        ],\n",
       "       [-0.18718385,  1.        ],\n",
       "       [ 0.06651722,  1.        ],\n",
       "       [-0.88778575,  1.        ],\n",
       "       [ 1.78587049,  1.        ],\n",
       "       [ 0.95008842,  1.        ],\n",
       "       [ 0.04575852,  1.        ],\n",
       "       [-1.45436567,  1.        ],\n",
       "       [-0.63432209,  1.        ],\n",
       "       [ 0.3130677 ,  1.        ],\n",
       "       [-0.81314628,  1.        ],\n",
       "       [-0.90729836,  1.        ],\n",
       "       [-1.23482582,  1.        ],\n",
       "       [-0.10321885,  1.        ],\n",
       "       [-0.40317695,  1.        ],\n",
       "       [ 0.90082649,  1.        ],\n",
       "       [ 2.26975462,  1.        ],\n",
       "       [-1.34775906,  1.        ],\n",
       "       [ 0.4105985 ,  1.        ],\n",
       "       [ 0.3563664 ,  1.        ],\n",
       "       [ 0.14404357,  1.        ],\n",
       "       [-1.42001794,  1.        ],\n",
       "       [-1.04855297,  1.        ],\n",
       "       [ 1.13940068,  1.        ],\n",
       "       [ 0.33367433,  1.        ],\n",
       "       [-1.25279536,  1.        ],\n",
       "       [-0.68481009,  1.        ],\n",
       "       [ 0.3869025 ,  1.        ],\n",
       "       [-0.67246045,  1.        ],\n",
       "       [ 1.20237985,  1.        ],\n",
       "       [ 1.53277921,  1.        ],\n",
       "       [ 0.46566244,  1.        ]])"
      ]
     },
     "execution_count": 234,
     "metadata": {},
     "output_type": "execute_result"
    }
   ],
   "source": [
    "X"
   ]
  },
  {
   "cell_type": "code",
   "execution_count": 235,
   "id": "38a6c514",
   "metadata": {},
   "outputs": [
    {
     "data": {
      "text/plain": [
       "array([[1.76405235],\n",
       "       [0.40015721]])"
      ]
     },
     "execution_count": 235,
     "metadata": {},
     "output_type": "execute_result"
    }
   ],
   "source": [
    "theta = np.random.randn(2,1)\n",
    "theta"
   ]
  },
  {
   "cell_type": "code",
   "execution_count": 236,
   "id": "1ede3ff7",
   "metadata": {},
   "outputs": [],
   "source": [
    "def predct_func(X , theta):\n",
    "    return X.dot(theta)"
   ]
  },
  {
   "cell_type": "code",
   "execution_count": 237,
   "id": "201b2747",
   "metadata": {},
   "outputs": [],
   "source": [
    "def cost_function(X , Y , theta):\n",
    "    return (1/(2*len(Y))) * sum((predct_func(X , theta) - Y)**2)"
   ]
  },
  {
   "cell_type": "code",
   "execution_count": 238,
   "id": "d52254f1",
   "metadata": {},
   "outputs": [],
   "source": [
    "def func_grad(X , Y , theta):\n",
    "    return (1/len(Y)) * X.T.dot(predct_func(X , theta) - Y)"
   ]
  },
  {
   "cell_type": "code",
   "execution_count": 239,
   "id": "6952b55b",
   "metadata": {},
   "outputs": [],
   "source": [
    "def grad_decent(X , Y , alfa , theta):\n",
    "    return theta - (alfa * func_grad(X , Y , theta))"
   ]
  },
  {
   "cell_type": "code",
   "execution_count": 240,
   "id": "3eed94f2",
   "metadata": {},
   "outputs": [],
   "source": [
    "nombre_iteration = 1000\n",
    "alf = 0.1\n",
    "cost = []\n",
    "for i in range(nombre_iteration):\n",
    "    theta = grad_decent(X , Y ,alf, theta)\n",
    "    cost.append(cost_function(X , Y , theta))"
   ]
  },
  {
   "cell_type": "code",
   "execution_count": 241,
   "id": "2294e04c",
   "metadata": {},
   "outputs": [
    {
     "data": {
      "text/plain": [
       "[<matplotlib.lines.Line2D at 0x7fcaa71de6d0>]"
      ]
     },
     "execution_count": 241,
     "metadata": {},
     "output_type": "execute_result"
    },
    {
     "data": {
      "image/png": "[encoded data removed]",
      "text/plain": [
       "<Figure size 432x288 with 1 Axes>"
      ]
     },
     "metadata": {
      "needs_background": "light"
     },
     "output_type": "display_data"
    }
   ],
   "source": [
    "import matplotlib.pyplot as plt\n",
    "plt.plot(range(nombre_iteration) , cost , c = 'r')"
   ]
  },
  {
   "cell_type": "code",
   "execution_count": 242,
   "id": "820049f3",
   "metadata": {},
   "outputs": [
    {
     "data": {
      "text/plain": [
       "<matplotlib.collections.PathCollection at 0x7fcaa7143190>"
      ]
     },
     "execution_count": 242,
     "metadata": {},
     "output_type": "execute_result"
    },
    {
     "data": {
      "image/png": "[encoded data removed]",
      "text/plain": [
       "<Figure size 432x288 with 1 Axes>"
      ]
     },
     "metadata": {
      "needs_background": "light"
     },
     "output_type": "display_data"
    }
   ],
   "source": [
    "plt.scatter(X[:,0] , Y , c='r')\n"
   ]
  },
  {
   "cell_type": "code",
   "execution_count": 243,
   "id": "fee694b5",
   "metadata": {},
   "outputs": [
    {
     "data": {
      "text/plain": [
       "[<matplotlib.lines.Line2D at 0x7fcaa7118d30>]"
      ]
     },
     "execution_count": 243,
     "metadata": {},
     "output_type": "execute_result"
    },
    {
     "data": {
      "image/png": "[encoded data removed]",
      "text/plain": [
       "<Figure size 432x288 with 1 Axes>"
      ]
     },
     "metadata": {
      "needs_background": "light"
     },
     "output_type": "display_data"
    }
   ],
   "source": [
    "plt.plot(X[:,0] , predct_func(X,theta) , c='b')"
   ]
  },
  {
   "cell_type": "code",
   "execution_count": 244,
   "id": "defb8606",
   "metadata": {},
   "outputs": [],
   "source": [
    "predect = predct_func(X , theta)"
   ]
  },
  {
   "cell_type": "code",
   "execution_count": 245,
   "id": "f90de14b",
   "metadata": {},
   "outputs": [],
   "source": [
    "def coff_deter(Y , Y_pred):\n",
    "    u = np.sum((Y - Y_pred)**2)\n",
    "    v = np.sum((Y  - np.mean(Y))**2)\n",
    "    return 1 - (u/v)"
   ]
  },
  {
   "cell_type": "code",
   "execution_count": 246,
   "id": "2cd79c5d",
   "metadata": {},
   "outputs": [
    {
     "data": {
      "text/plain": [
       "0.9315891209885591"
      ]
     },
     "execution_count": 246,
     "metadata": {},
     "output_type": "execute_result"
    }
   ],
   "source": [
    "coff_deter(Y , predect)"
   ]
  },
  {
   "cell_type": "code",
   "execution_count": 247,
   "id": "ad4fc833",
   "metadata": {},
   "outputs": [
    {
     "data": {
      "text/plain": [
       "0.9651886452857592"
      ]
     },
     "execution_count": 247,
     "metadata": {},
     "output_type": "execute_result"
    }
   ],
   "source": [
    "np.sqrt(coff_deter(Y , predect))"
   ]
  },
  {
   "cell_type": "code",
   "execution_count": null,
   "id": "f5e9bb12",
   "metadata": {},
   "outputs": [],
   "source": [
    "def sigmoid(X , theta):\n",
    "    return 1 / 1 + np.exp(X.dot(theta))"
   ]
  },
  {
   "cell_type": "code",
   "execution_count": null,
   "id": "a9272e4f",
   "metadata": {},
   "outputs": [],
   "source": [
    "def cost_log_func():\n",
    "    return (-1/len(Y)) * np.sum(Y * np.log(sigmoid(X , theta)) + (1- Y) * np.log(1 - sigmoid(X , theta)))"
   ]
  },
  {
   "cell_type": "code",
   "execution_count": null,
   "id": "db644971",
   "metadata": {},
   "outputs": [],
   "source": []
  }
 ],
 "metadata": {
  "kernelspec": {
   "display_name": "Python 3",
   "language": "python",
   "name": "python3"
  },
  "language_info": {
   "codemirror_mode": {
    "name": "ipython",
    "version": 3
   },
   "file_extension": ".py",
   "mimetype": "text/x-python",
   "name": "python",
   "nbconvert_exporter": "python",
   "pygments_lexer": "ipython3",
   "version": "3.8.10"
  }
 },
 "nbformat": 4,
 "nbformat_minor": 5
}
