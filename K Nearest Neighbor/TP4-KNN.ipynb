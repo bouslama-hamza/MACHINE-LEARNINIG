{
 "cells": [
  {
   "cell_type": "markdown",
   "metadata": {},
   "source": [
    "# TP4: Les K plus proches voisins (KNN : k nearest neighbors)\n",
    " \n",
    "Le KNN est un algorithme de classification supervisé. Pour chaque entrée $x_{i}=(x^{1}_{i}, x^{1}_{i}, x^{2}_{i}, ... x^{n}_{i}) $ il faut disposer de la sortie $y_{i}$ correspondante (la classe correspondante)\n",
    "\n",
    "Pour savoir à quelle classe $y_{i}$ un vecteur x apartient il faut:\n",
    "- Calculer la distance (euclidienne) du vecteur x à tous les examples $x_{i}$\n",
    "- trouver les k exemple les plus proche de x\n",
    "- x appartient à la classe majoritairement representé par ces k éléments \n",
    "\n",
    "## I-Classe Binaire\n",
    "\n",
    "### 1. Recuperation des données\n",
    "\n",
    "Les données sont stocker dans le fichier Titanic.csv qui contient des données des passagers du Titanic. Chaque ligne représente une personne. Les colonnes décrivent différents attributs de la personne, notamment si elle a survécu, son âge, sa classe de passagers, son sexe...\n",
    "\n",
    "1-Utiliser sns.load_dataset('titanic') de la librairie seaborn pour éecuperer les données de ce fichier \n",
    "\n",
    "2-Afficher les 10 premiere ligne de ce dataframe\n"
   ]
  },
  {
   "cell_type": "code",
   "execution_count": 1,
   "metadata": {},
   "outputs": [],
   "source": [
    "import seaborn as sns\n",
    "db = sns.load_dataset('titanic')"
   ]
  },
  {
   "cell_type": "code",
   "execution_count": 2,
   "metadata": {},
   "outputs": [
    {
     "data": {
      "text/html": [
       "<div>\n",
       "<style scoped>\n",
       "    .dataframe tbody tr th:only-of-type {\n",
       "        vertical-align: middle;\n",
       "    }\n",
       "\n",
       "    .dataframe tbody tr th {\n",
       "        vertical-align: top;\n",
       "    }\n",
       "\n",
       "    .dataframe thead th {\n",
       "        text-align: right;\n",
       "    }\n",
       "</style>\n",
       "<table border=\"1\" class=\"dataframe\">\n",
       "  <thead>\n",
       "    <tr style=\"text-align: right;\">\n",
       "      <th></th>\n",
       "      <th>survived</th>\n",
       "      <th>pclass</th>\n",
       "      <th>sex</th>\n",
       "      <th>age</th>\n",
       "      <th>sibsp</th>\n",
       "      <th>parch</th>\n",
       "      <th>fare</th>\n",
       "      <th>embarked</th>\n",
       "      <th>class</th>\n",
       "      <th>who</th>\n",
       "      <th>adult_male</th>\n",
       "      <th>deck</th>\n",
       "      <th>embark_town</th>\n",
       "      <th>alive</th>\n",
       "      <th>alone</th>\n",
       "    </tr>\n",
       "  </thead>\n",
       "  <tbody>\n",
       "    <tr>\n",
       "      <th>0</th>\n",
       "      <td>0</td>\n",
       "      <td>3</td>\n",
       "      <td>male</td>\n",
       "      <td>22.0</td>\n",
       "      <td>1</td>\n",
       "      <td>0</td>\n",
       "      <td>7.2500</td>\n",
       "      <td>S</td>\n",
       "      <td>Third</td>\n",
       "      <td>man</td>\n",
       "      <td>True</td>\n",
       "      <td>NaN</td>\n",
       "      <td>Southampton</td>\n",
       "      <td>no</td>\n",
       "      <td>False</td>\n",
       "    </tr>\n",
       "    <tr>\n",
       "      <th>1</th>\n",
       "      <td>1</td>\n",
       "      <td>1</td>\n",
       "      <td>female</td>\n",
       "      <td>38.0</td>\n",
       "      <td>1</td>\n",
       "      <td>0</td>\n",
       "      <td>71.2833</td>\n",
       "      <td>C</td>\n",
       "      <td>First</td>\n",
       "      <td>woman</td>\n",
       "      <td>False</td>\n",
       "      <td>C</td>\n",
       "      <td>Cherbourg</td>\n",
       "      <td>yes</td>\n",
       "      <td>False</td>\n",
       "    </tr>\n",
       "    <tr>\n",
       "      <th>2</th>\n",
       "      <td>1</td>\n",
       "      <td>3</td>\n",
       "      <td>female</td>\n",
       "      <td>26.0</td>\n",
       "      <td>0</td>\n",
       "      <td>0</td>\n",
       "      <td>7.9250</td>\n",
       "      <td>S</td>\n",
       "      <td>Third</td>\n",
       "      <td>woman</td>\n",
       "      <td>False</td>\n",
       "      <td>NaN</td>\n",
       "      <td>Southampton</td>\n",
       "      <td>yes</td>\n",
       "      <td>True</td>\n",
       "    </tr>\n",
       "    <tr>\n",
       "      <th>3</th>\n",
       "      <td>1</td>\n",
       "      <td>1</td>\n",
       "      <td>female</td>\n",
       "      <td>35.0</td>\n",
       "      <td>1</td>\n",
       "      <td>0</td>\n",
       "      <td>53.1000</td>\n",
       "      <td>S</td>\n",
       "      <td>First</td>\n",
       "      <td>woman</td>\n",
       "      <td>False</td>\n",
       "      <td>C</td>\n",
       "      <td>Southampton</td>\n",
       "      <td>yes</td>\n",
       "      <td>False</td>\n",
       "    </tr>\n",
       "    <tr>\n",
       "      <th>4</th>\n",
       "      <td>0</td>\n",
       "      <td>3</td>\n",
       "      <td>male</td>\n",
       "      <td>35.0</td>\n",
       "      <td>0</td>\n",
       "      <td>0</td>\n",
       "      <td>8.0500</td>\n",
       "      <td>S</td>\n",
       "      <td>Third</td>\n",
       "      <td>man</td>\n",
       "      <td>True</td>\n",
       "      <td>NaN</td>\n",
       "      <td>Southampton</td>\n",
       "      <td>no</td>\n",
       "      <td>True</td>\n",
       "    </tr>\n",
       "    <tr>\n",
       "      <th>5</th>\n",
       "      <td>0</td>\n",
       "      <td>3</td>\n",
       "      <td>male</td>\n",
       "      <td>NaN</td>\n",
       "      <td>0</td>\n",
       "      <td>0</td>\n",
       "      <td>8.4583</td>\n",
       "      <td>Q</td>\n",
       "      <td>Third</td>\n",
       "      <td>man</td>\n",
       "      <td>True</td>\n",
       "      <td>NaN</td>\n",
       "      <td>Queenstown</td>\n",
       "      <td>no</td>\n",
       "      <td>True</td>\n",
       "    </tr>\n",
       "    <tr>\n",
       "      <th>6</th>\n",
       "      <td>0</td>\n",
       "      <td>1</td>\n",
       "      <td>male</td>\n",
       "      <td>54.0</td>\n",
       "      <td>0</td>\n",
       "      <td>0</td>\n",
       "      <td>51.8625</td>\n",
       "      <td>S</td>\n",
       "      <td>First</td>\n",
       "      <td>man</td>\n",
       "      <td>True</td>\n",
       "      <td>E</td>\n",
       "      <td>Southampton</td>\n",
       "      <td>no</td>\n",
       "      <td>True</td>\n",
       "    </tr>\n",
       "    <tr>\n",
       "      <th>7</th>\n",
       "      <td>0</td>\n",
       "      <td>3</td>\n",
       "      <td>male</td>\n",
       "      <td>2.0</td>\n",
       "      <td>3</td>\n",
       "      <td>1</td>\n",
       "      <td>21.0750</td>\n",
       "      <td>S</td>\n",
       "      <td>Third</td>\n",
       "      <td>child</td>\n",
       "      <td>False</td>\n",
       "      <td>NaN</td>\n",
       "      <td>Southampton</td>\n",
       "      <td>no</td>\n",
       "      <td>False</td>\n",
       "    </tr>\n",
       "    <tr>\n",
       "      <th>8</th>\n",
       "      <td>1</td>\n",
       "      <td>3</td>\n",
       "      <td>female</td>\n",
       "      <td>27.0</td>\n",
       "      <td>0</td>\n",
       "      <td>2</td>\n",
       "      <td>11.1333</td>\n",
       "      <td>S</td>\n",
       "      <td>Third</td>\n",
       "      <td>woman</td>\n",
       "      <td>False</td>\n",
       "      <td>NaN</td>\n",
       "      <td>Southampton</td>\n",
       "      <td>yes</td>\n",
       "      <td>False</td>\n",
       "    </tr>\n",
       "    <tr>\n",
       "      <th>9</th>\n",
       "      <td>1</td>\n",
       "      <td>2</td>\n",
       "      <td>female</td>\n",
       "      <td>14.0</td>\n",
       "      <td>1</td>\n",
       "      <td>0</td>\n",
       "      <td>30.0708</td>\n",
       "      <td>C</td>\n",
       "      <td>Second</td>\n",
       "      <td>child</td>\n",
       "      <td>False</td>\n",
       "      <td>NaN</td>\n",
       "      <td>Cherbourg</td>\n",
       "      <td>yes</td>\n",
       "      <td>False</td>\n",
       "    </tr>\n",
       "  </tbody>\n",
       "</table>\n",
       "</div>"
      ],
      "text/plain": [
       "   survived  pclass     sex   age  sibsp  parch     fare embarked   class  \\\n",
       "0         0       3    male  22.0      1      0   7.2500        S   Third   \n",
       "1         1       1  female  38.0      1      0  71.2833        C   First   \n",
       "2         1       3  female  26.0      0      0   7.9250        S   Third   \n",
       "3         1       1  female  35.0      1      0  53.1000        S   First   \n",
       "4         0       3    male  35.0      0      0   8.0500        S   Third   \n",
       "5         0       3    male   NaN      0      0   8.4583        Q   Third   \n",
       "6         0       1    male  54.0      0      0  51.8625        S   First   \n",
       "7         0       3    male   2.0      3      1  21.0750        S   Third   \n",
       "8         1       3  female  27.0      0      2  11.1333        S   Third   \n",
       "9         1       2  female  14.0      1      0  30.0708        C  Second   \n",
       "\n",
       "     who  adult_male deck  embark_town alive  alone  \n",
       "0    man        True  NaN  Southampton    no  False  \n",
       "1  woman       False    C    Cherbourg   yes  False  \n",
       "2  woman       False  NaN  Southampton   yes   True  \n",
       "3  woman       False    C  Southampton   yes  False  \n",
       "4    man        True  NaN  Southampton    no   True  \n",
       "5    man        True  NaN   Queenstown    no   True  \n",
       "6    man        True    E  Southampton    no   True  \n",
       "7  child       False  NaN  Southampton    no  False  \n",
       "8  woman       False  NaN  Southampton   yes  False  \n",
       "9  child       False  NaN    Cherbourg   yes  False  "
      ]
     },
     "execution_count": 2,
     "metadata": {},
     "output_type": "execute_result"
    }
   ],
   "source": [
    "# show all the data\n",
    "db.head(10)"
   ]
  },
  {
   "cell_type": "markdown",
   "metadata": {},
   "source": [
    "### 2- Entrainement et test du modèle\n",
    "Dans un premier lieux, nous allons utiliser comme critères de classifiction suivants:\n",
    "\"age\": l'age passager\n",
    "\"sex\": le sexe du passager\n",
    "\"pclass\": classe de voyage(classe1,classe2,classe3)\n",
    "\n",
    "1- Transformer la variable qualitatif \"sex\" en variable numérique( male=0,female=1)\n",
    "\n",
    "2-Construiser X et Y \n",
    "\n",
    "X: les trois colonne \"pclass\",\"age\" et \"sex\"\n",
    "\n",
    "y: \"survived\"\n",
    "\n",
    "3- Créer un objet **KNeighborsClassifier** du module **sklearn.neighbors** pour entrainer le model à l'aide la méthode **fit()** du même objet.\n",
    "\n",
    "4- Utiliser la méthode **score(X,y)** et  **Confusion Matrix**  pour évaluer le modèle pour k=1,3,5,7,9,11 et interpréter le résultat.\n"
   ]
  },
  {
   "cell_type": "code",
   "execution_count": 3,
   "metadata": {},
   "outputs": [],
   "source": [
    "# transform \n",
    "db['sex'].replace(['male' , 'female'] , [0 , 1] , inplace = True)\n",
    "db.dropna(inplace = True)"
   ]
  },
  {
   "cell_type": "code",
   "execution_count": 4,
   "metadata": {},
   "outputs": [],
   "source": [
    "import numpy as np\n",
    "X = np.array([[i , j , z] for i ,j ,z in zip(db['pclass'].to_list() , db['age'].to_list() , db['sex'].to_list())])\n",
    "Y = np.array([i for i in db['survived']])"
   ]
  },
  {
   "cell_type": "code",
   "execution_count": 5,
   "metadata": {},
   "outputs": [],
   "source": [
    "from sklearn.neighbors import KNeighborsClassifier"
   ]
  },
  {
   "cell_type": "code",
   "execution_count": 6,
   "metadata": {},
   "outputs": [
    {
     "name": "stdout",
     "output_type": "stream",
     "text": [
      "model one   :  0.9285714285714286\n",
      "model two   :  0.8516483516483516\n",
      "model three :  0.8186813186813187\n",
      "model four  :  0.7802197802197802\n",
      "model five  :  0.7692307692307693\n",
      "model sex   :  0.7527472527472527\n"
     ]
    }
   ],
   "source": [
    "model_one  = KNeighborsClassifier(n_neighbors=1)\n",
    "Y_predect = model_one.fit(X,Y)\n",
    "model_two  = KNeighborsClassifier(n_neighbors=3)\n",
    "model_two.fit(X,Y)\n",
    "model_three= KNeighborsClassifier(n_neighbors=5)\n",
    "model_three.fit(X,Y)\n",
    "model_four = KNeighborsClassifier(n_neighbors=7)\n",
    "model_four.fit(X,Y)\n",
    "model_five = KNeighborsClassifier(n_neighbors=9)\n",
    "model_five.fit(X,Y)\n",
    "model_sex  = KNeighborsClassifier(n_neighbors=11)\n",
    "model_sex.fit(X,Y)\n",
    "\n",
    "# print all the values\n",
    "print(\"model one   : \",model_one.score(X,Y))\n",
    "print(\"model two   : \",model_two.score(X,Y))\n",
    "print(\"model three : \",model_three.score(X,Y))\n",
    "print(\"model four  : \",model_four.score(X,Y))\n",
    "print(\"model five  : \",model_five.score(X,Y))\n",
    "print(\"model sex   : \",model_sex.score(X,Y))"
   ]
  },
  {
   "cell_type": "code",
   "execution_count": 7,
   "metadata": {},
   "outputs": [
    {
     "data": {
      "text/plain": [
       "array([[ 54,   5],\n",
       "       [  8, 115]])"
      ]
     },
     "execution_count": 7,
     "metadata": {},
     "output_type": "execute_result"
    }
   ],
   "source": [
    "from sklearn.metrics import confusion_matrix\n",
    "confusion_matrix(Y, model_one.predict(X))"
   ]
  },
  {
   "cell_type": "markdown",
   "metadata": {},
   "source": [
    "### 3- prediction\n",
    "Voici des information de trois passagers:\n",
    "\n",
    "passager1:  {\"pclass\": 1, \"sex\":1 , \"age\": 20}\n",
    "\n",
    "passager2:  {\"pclass\": 2, \"sex\":1 , \"age\": 7}\n",
    "\n",
    "passager3:  {\"pclass\": 3, \"sex\": 0, \"age\": 35}\n",
    "\n",
    "1- Créer un DataFrame à partir de ce données\n",
    "\n",
    "2- Lequel des passagers vont etre par les survivant?"
   ]
  },
  {
   "cell_type": "code",
   "execution_count": 8,
   "metadata": {},
   "outputs": [],
   "source": [
    "import pandas as pd\n",
    "data = {\n",
    "    \n",
    "    'passager1': [1, 20 ,1],\n",
    "    'passager2': [2, 1 , 7],\n",
    "    'passager3': [3, 35, 0]\n",
    "    \n",
    "}\n",
    "test = pd.DataFrame(pd.DataFrame.from_dict(data, orient='index',  columns=['pclass', 'sex', 'age']))"
   ]
  },
  {
   "cell_type": "code",
   "execution_count": 9,
   "metadata": {},
   "outputs": [
    {
     "data": {
      "text/plain": [
       "array([0, 1, 0])"
      ]
     },
     "execution_count": 9,
     "metadata": {},
     "output_type": "execute_result"
    }
   ],
   "source": [
    "X_new = np.array([[i , j , z] for i , j , z in zip(test['pclass'].to_list() , test['age'].to_list() , test['sex'].to_list())])\n",
    "model_two.predict(X_new)"
   ]
  },
  {
   "cell_type": "markdown",
   "metadata": {},
   "source": [
    "## II-Multiple Classes"
   ]
  },
  {
   "cell_type": "markdown",
   "metadata": {},
   "source": [
    "#### ***Q1***-utilisez la fonction ***make_blobs(n_samples,centers, cluster_std,random_state)*** du module ***sklearn.datasets*** pour generer trois classes puis visualiser ces trois classe comme suivants:\n",
    "*   rouge: y=0\n",
    "*   blue: y=1\n",
    "*   vert: y=2\n",
    "*   Orange: y=3\n",
    "\n",
    "l'argument ***cluster_std*** affecte le chevauchement entre les classe\n",
    "<img src=\"KNN.png\" style=\"with:150px;height:280px\"/>"
   ]
  },
  {
   "cell_type": "code",
   "execution_count": 3,
   "metadata": {},
   "outputs": [
    {
     "data": {
      "image/png": "[encoded data removed]",
      "text/plain": [
       "<Figure size 432x288 with 1 Axes>"
      ]
     },
     "metadata": {
      "needs_background": "light"
     },
     "output_type": "display_data"
    },
    {
     "data": {
      "text/plain": [
       "array([[-2.50804312,  7.86408052],\n",
       "       [ 0.4666179 ,  3.86571303],\n",
       "       [-2.94062621,  8.56480636],\n",
       "       ...,\n",
       "       [-1.13551783,  8.49272771],\n",
       "       [-1.22933367,  7.75342586],\n",
       "       [ 3.90485877,  0.683497  ]])"
      ]
     },
     "execution_count": 3,
     "metadata": {},
     "output_type": "execute_result"
    }
   ],
   "source": [
    "from sklearn.datasets import make_blobs\n",
    "import matplotlib.pyplot as plt\n",
    "X, Y = make_blobs(n_samples=1000 , centers=4, n_features=2 , random_state=0)\n",
    "plt.scatter(X[:,0] , X[:,1] , c = Y)\n",
    "plt.show()\n",
    "X"
   ]
  },
  {
   "cell_type": "code",
   "execution_count": 6,
   "metadata": {},
   "outputs": [
    {
     "data": {
      "text/plain": [
       "array([[-2.50804312,  7.86408052],\n",
       "       [ 0.4666179 ,  3.86571303],\n",
       "       [-2.94062621,  8.56480636],\n",
       "       ...,\n",
       "       [-1.13551783,  8.49272771],\n",
       "       [-1.22933367,  7.75342586],\n",
       "       [ 3.90485877,  0.683497  ]])"
      ]
     },
     "execution_count": 6,
     "metadata": {},
     "output_type": "execute_result"
    }
   ],
   "source": [
    "X"
   ]
  },
  {
   "cell_type": "markdown",
   "metadata": {},
   "source": [
    "#### ***Q2***  Ecrire un script pour predire la classe de x avec l'algorithme du kNN  et évaluer le modèle pour k=1,3,5,7,9,11 et interpréter le résultat.\n"
   ]
  },
  {
   "cell_type": "code",
   "execution_count": 18,
   "metadata": {},
   "outputs": [
    {
     "name": "stdout",
     "output_type": "stream",
     "text": [
      "model one   :  1.0\n",
      "model two   :  0.955\n",
      "model three :  0.943\n",
      "model four  :  0.938\n",
      "model five  :  0.941\n",
      "model sex   :  0.942\n"
     ]
    }
   ],
   "source": [
    "model_one  = KNeighborsClassifier(n_neighbors=1)\n",
    "model_one.fit(X,Y)\n",
    "model_two  = KNeighborsClassifier(n_neighbors=3)\n",
    "model_two.fit(X,Y)\n",
    "model_three= KNeighborsClassifier(n_neighbors=5)\n",
    "model_three.fit(X,Y)\n",
    "model_four = KNeighborsClassifier(n_neighbors=7)\n",
    "model_four.fit(X,Y)\n",
    "model_five = KNeighborsClassifier(n_neighbors=9)\n",
    "model_five.fit(X,Y)\n",
    "model_sex  = KNeighborsClassifier(n_neighbors=11)\n",
    "model_sex.fit(X,Y)\n",
    "\n",
    "# print all the values\n",
    "print(\"model one   : \",model_one.score(X,Y))\n",
    "print(\"model two   : \",model_two.score(X,Y))\n",
    "print(\"model three : \",model_three.score(X,Y))\n",
    "print(\"model four  : \",model_four.score(X,Y))\n",
    "print(\"model five  : \",model_five.score(X,Y))\n",
    "print(\"model sex   : \",model_sex.score(X,Y))"
   ]
  },
  {
   "cell_type": "markdown",
   "metadata": {},
   "source": [
    "#### Q3. A quelle classe apartient les trois points suivants: x1=(-2,8); x2(2,6) ;x3=(0,2) et x4=(4,2) "
   ]
  },
  {
   "cell_type": "code",
   "execution_count": 19,
   "metadata": {},
   "outputs": [],
   "source": [
    "import numpy as np\n",
    "X1 = np.array([[-2 , 8]])\n",
    "X2 = np.array([[2 ,  6]])\n",
    "X3 = np.array([[0 ,  2]])\n",
    "X4 = np.array([[4 ,  2]])"
   ]
  },
  {
   "cell_type": "code",
   "execution_count": 20,
   "metadata": {},
   "outputs": [
    {
     "name": "stdout",
     "output_type": "stream",
     "text": [
      "For X1 =  [3]\n",
      "For X2 =  [0]\n",
      "For X3 =  [2]\n",
      "For X4 =  [1]\n"
     ]
    }
   ],
   "source": [
    "model_one.predict(X1)\n",
    "print(\"For X1 = \",model_four.predict(X1))\n",
    "print(\"For X2 = \",model_four.predict(X2))\n",
    "print(\"For X3 = \",model_four.predict(X3))\n",
    "print(\"For X4 = \",model_four.predict(X4))"
   ]
  }
 ],
 "metadata": {
  "kernelspec": {
   "display_name": "Python 3",
   "language": "python",
   "name": "python3"
  },
  "language_info": {
   "codemirror_mode": {
    "name": "ipython",
    "version": 3
   },
   "file_extension": ".py",
   "mimetype": "text/x-python",
   "name": "python",
   "nbconvert_exporter": "python",
   "pygments_lexer": "ipython3",
   "version": "3.8.10"
  }
 },
 "nbformat": 4,
 "nbformat_minor": 4
}
