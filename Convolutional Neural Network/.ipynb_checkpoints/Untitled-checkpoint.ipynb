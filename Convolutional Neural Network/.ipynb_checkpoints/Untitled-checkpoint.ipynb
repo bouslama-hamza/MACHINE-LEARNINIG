{
 "cells": [
  {
   "cell_type": "code",
   "execution_count": 60,
   "id": "75818152",
   "metadata": {},
   "outputs": [],
   "source": [
    "import numpy as np\n",
    "x = np.array([2 , 4 , 14 , 8 , 12])\n",
    "y = np.array([10 , 8 , 2 , 6 , 4])"
   ]
  },
  {
   "cell_type": "code",
   "execution_count": 46,
   "id": "13634f36",
   "metadata": {},
   "outputs": [],
   "source": [
    "theta_one = (np.sum(x*y) - (len(x) * (np.mean(x) * np.mean(y)))) / (len(x) * np.var(x))\n",
    "theta_zero = np.mean(y) - (theta_one * np.mean(x)) "
   ]
  },
  {
   "cell_type": "code",
   "execution_count": 47,
   "id": "b2b4ac9a",
   "metadata": {},
   "outputs": [],
   "source": [
    "def funct(x):\n",
    "    return theta_zero + (theta_one * x)"
   ]
  },
  {
   "cell_type": "code",
   "execution_count": 49,
   "id": "f777df79",
   "metadata": {},
   "outputs": [
    {
     "data": {
      "text/plain": [
       "9.692307692307693"
      ]
     },
     "execution_count": 49,
     "metadata": {},
     "output_type": "execute_result"
    }
   ],
   "source": [
    "funct(x[0])"
   ]
  },
  {
   "cell_type": "code",
   "execution_count": 66,
   "id": "92f1beb7",
   "metadata": {},
   "outputs": [],
   "source": [
    "weight = np.random.rand(2,1)\n",
    "baise = np.random.rand(1)"
   ]
  },
  {
   "cell_type": "code",
   "execution_count": 67,
   "id": "9702eb94",
   "metadata": {},
   "outputs": [],
   "source": [
    "def predction(x , weight , baise):\n",
    "    return 1 / 1 + np.exp(np.dot(x , weight) + baise)"
   ]
  },
  {
   "cell_type": "code",
   "execution_count": 68,
   "id": "170cbb27",
   "metadata": {},
   "outputs": [],
   "source": [
    "def function_grad_weight(x , y,weight , baise):\n",
    "    return (1/len(x)) * x.T.dot(predction(x,weight , baise) - y)\n",
    "\n",
    "def function_grad_baise(x , y ,weight , baise):\n",
    "    return (1/len(x)) * (predction(x, weight , baise) - y)"
   ]
  },
  {
   "cell_type": "code",
   "execution_count": 69,
   "id": "84d088c0",
   "metadata": {},
   "outputs": [],
   "source": [
    "def grad_descent(weight , baise , alfa , x ,y):\n",
    "    return weight - alfa * (function_grad_weight(x,y ,weight , baise)) , baise - alfa * (function_grad_baise(x,y,weight , baise))"
   ]
  },
  {
   "cell_type": "code",
   "execution_count": 70,
   "id": "edfe9204",
   "metadata": {},
   "outputs": [
    {
     "ename": "TypeError",
     "evalue": "function_grad_weight() takes 2 positional arguments but 4 were given",
     "output_type": "error",
     "traceback": [
      "\u001b[0;31m---------------------------------------------------------------------------\u001b[0m",
      "\u001b[0;31mTypeError\u001b[0m                                 Traceback (most recent call last)",
      "\u001b[0;32m<ipython-input-70-48c4bbb814b8>\u001b[0m in \u001b[0;36m<module>\u001b[0;34m\u001b[0m\n\u001b[1;32m      3\u001b[0m \u001b[0;34m\u001b[0m\u001b[0m\n\u001b[1;32m      4\u001b[0m \u001b[0;32mfor\u001b[0m \u001b[0mi\u001b[0m \u001b[0;32min\u001b[0m \u001b[0mrange\u001b[0m\u001b[0;34m(\u001b[0m\u001b[0mnombre_deteration\u001b[0m\u001b[0;34m)\u001b[0m\u001b[0;34m:\u001b[0m\u001b[0;34m\u001b[0m\u001b[0;34m\u001b[0m\u001b[0m\n\u001b[0;32m----> 5\u001b[0;31m     \u001b[0mweight\u001b[0m \u001b[0;34m,\u001b[0m\u001b[0mbaise\u001b[0m \u001b[0;34m=\u001b[0m  \u001b[0mgrad_descent\u001b[0m\u001b[0;34m(\u001b[0m\u001b[0mweight\u001b[0m \u001b[0;34m,\u001b[0m \u001b[0mbaise\u001b[0m \u001b[0;34m,\u001b[0m \u001b[0malfa\u001b[0m \u001b[0;34m,\u001b[0m \u001b[0mx\u001b[0m \u001b[0;34m,\u001b[0m \u001b[0my\u001b[0m\u001b[0;34m)\u001b[0m\u001b[0;34m\u001b[0m\u001b[0;34m\u001b[0m\u001b[0m\n\u001b[0m\u001b[1;32m      6\u001b[0m     \u001b[0mprint\u001b[0m\u001b[0;34m(\u001b[0m\u001b[0;34m\"Weight : \"\u001b[0m\u001b[0;34m,\u001b[0m\u001b[0mweight\u001b[0m\u001b[0;34m,\u001b[0m\u001b[0;34m\"Baise : \"\u001b[0m\u001b[0;34m,\u001b[0m\u001b[0mbaise\u001b[0m\u001b[0;34m)\u001b[0m\u001b[0;34m\u001b[0m\u001b[0;34m\u001b[0m\u001b[0m\n",
      "\u001b[0;32m<ipython-input-69-e31f8296abbd>\u001b[0m in \u001b[0;36mgrad_descent\u001b[0;34m(weight, baise, alfa, x, y)\u001b[0m\n\u001b[1;32m      1\u001b[0m \u001b[0;32mdef\u001b[0m \u001b[0mgrad_descent\u001b[0m\u001b[0;34m(\u001b[0m\u001b[0mweight\u001b[0m \u001b[0;34m,\u001b[0m \u001b[0mbaise\u001b[0m \u001b[0;34m,\u001b[0m \u001b[0malfa\u001b[0m \u001b[0;34m,\u001b[0m \u001b[0mx\u001b[0m \u001b[0;34m,\u001b[0m\u001b[0my\u001b[0m\u001b[0;34m)\u001b[0m\u001b[0;34m:\u001b[0m\u001b[0;34m\u001b[0m\u001b[0;34m\u001b[0m\u001b[0m\n\u001b[0;32m----> 2\u001b[0;31m     \u001b[0;32mreturn\u001b[0m \u001b[0mweight\u001b[0m \u001b[0;34m-\u001b[0m \u001b[0malfa\u001b[0m \u001b[0;34m*\u001b[0m \u001b[0;34m(\u001b[0m\u001b[0mfunction_grad_weight\u001b[0m\u001b[0;34m(\u001b[0m\u001b[0mx\u001b[0m\u001b[0;34m,\u001b[0m\u001b[0my\u001b[0m \u001b[0;34m,\u001b[0m\u001b[0mweight\u001b[0m \u001b[0;34m,\u001b[0m \u001b[0mbaise\u001b[0m\u001b[0;34m)\u001b[0m\u001b[0;34m)\u001b[0m \u001b[0;34m,\u001b[0m \u001b[0mbaise\u001b[0m \u001b[0;34m-\u001b[0m \u001b[0malfa\u001b[0m \u001b[0;34m*\u001b[0m \u001b[0;34m(\u001b[0m\u001b[0mfunction_grad_baise\u001b[0m\u001b[0;34m(\u001b[0m\u001b[0mx\u001b[0m\u001b[0;34m,\u001b[0m\u001b[0my\u001b[0m\u001b[0;34m,\u001b[0m\u001b[0mweight\u001b[0m \u001b[0;34m,\u001b[0m \u001b[0mbaise\u001b[0m\u001b[0;34m)\u001b[0m\u001b[0;34m)\u001b[0m\u001b[0;34m\u001b[0m\u001b[0;34m\u001b[0m\u001b[0m\n\u001b[0m",
      "\u001b[0;31mTypeError\u001b[0m: function_grad_weight() takes 2 positional arguments but 4 were given"
     ]
    }
   ],
   "source": [
    "nombre_deteration = 100\n",
    "alfa = 0.01\n",
    "\n",
    "for i in range(nombre_deteration):\n",
    "    weight ,baise =  grad_descent(weight , baise , alfa , x , y)\n",
    "    print(\"Weight : \",weight,\"Baise : \",baise)"
   ]
  },
  {
   "cell_type": "code",
   "execution_count": null,
   "id": "372fb4e3",
   "metadata": {},
   "outputs": [],
   "source": []
  }
 ],
 "metadata": {
  "kernelspec": {
   "display_name": "Python 3",
   "language": "python",
   "name": "python3"
  },
  "language_info": {
   "codemirror_mode": {
    "name": "ipython",
    "version": 3
   },
   "file_extension": ".py",
   "mimetype": "text/x-python",
   "name": "python",
   "nbconvert_exporter": "python",
   "pygments_lexer": "ipython3",
   "version": "3.8.10"
  }
 },
 "nbformat": 4,
 "nbformat_minor": 5
}
